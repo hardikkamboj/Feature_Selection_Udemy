{
 "cells": [
  {
   "cell_type": "code",
   "execution_count": 39,
   "metadata": {},
   "outputs": [],
   "source": [
    "import pandas as pd\n",
    "import numpy as np\n",
    "\n",
    "import matplotlib.pyplot as plt\n",
    "import seaborn as sns\n",
    "%matplotlib inline\n",
    "\n",
    "from sklearn.model_selection import train_test_split\n",
    "from sklearn.tree import DecisionTreeClassifier\n",
    "from sklearn.preprocessing import StandardScaler\n",
    "from sklearn.ensemble import RandomForestClassifier\n",
    "from sklearn.linear_model import LogisticRegression\n",
    "from sklearn.metrics import roc_auc_score"
   ]
  },
  {
   "cell_type": "code",
   "execution_count": 2,
   "metadata": {},
   "outputs": [],
   "source": [
    "data = pd.read_csv(r'E:\\programming\\dataset\\Santander Customer Satisfaction\\train.csv')"
   ]
  },
  {
   "cell_type": "code",
   "execution_count": 3,
   "metadata": {},
   "outputs": [
    {
     "name": "stdout",
     "output_type": "stream",
     "text": [
      "(76020, 371)\n"
     ]
    },
    {
     "data": {
      "text/html": [
       "<div>\n",
       "<style scoped>\n",
       "    .dataframe tbody tr th:only-of-type {\n",
       "        vertical-align: middle;\n",
       "    }\n",
       "\n",
       "    .dataframe tbody tr th {\n",
       "        vertical-align: top;\n",
       "    }\n",
       "\n",
       "    .dataframe thead th {\n",
       "        text-align: right;\n",
       "    }\n",
       "</style>\n",
       "<table border=\"1\" class=\"dataframe\">\n",
       "  <thead>\n",
       "    <tr style=\"text-align: right;\">\n",
       "      <th></th>\n",
       "      <th>ID</th>\n",
       "      <th>var3</th>\n",
       "      <th>var15</th>\n",
       "      <th>imp_ent_var16_ult1</th>\n",
       "      <th>imp_op_var39_comer_ult1</th>\n",
       "      <th>imp_op_var39_comer_ult3</th>\n",
       "      <th>imp_op_var40_comer_ult1</th>\n",
       "      <th>imp_op_var40_comer_ult3</th>\n",
       "      <th>imp_op_var40_efect_ult1</th>\n",
       "      <th>imp_op_var40_efect_ult3</th>\n",
       "      <th>...</th>\n",
       "      <th>saldo_medio_var33_hace2</th>\n",
       "      <th>saldo_medio_var33_hace3</th>\n",
       "      <th>saldo_medio_var33_ult1</th>\n",
       "      <th>saldo_medio_var33_ult3</th>\n",
       "      <th>saldo_medio_var44_hace2</th>\n",
       "      <th>saldo_medio_var44_hace3</th>\n",
       "      <th>saldo_medio_var44_ult1</th>\n",
       "      <th>saldo_medio_var44_ult3</th>\n",
       "      <th>var38</th>\n",
       "      <th>TARGET</th>\n",
       "    </tr>\n",
       "  </thead>\n",
       "  <tbody>\n",
       "    <tr>\n",
       "      <th>0</th>\n",
       "      <td>1</td>\n",
       "      <td>2</td>\n",
       "      <td>23</td>\n",
       "      <td>0.0</td>\n",
       "      <td>0.0</td>\n",
       "      <td>0.0</td>\n",
       "      <td>0.0</td>\n",
       "      <td>0.0</td>\n",
       "      <td>0.0</td>\n",
       "      <td>0.0</td>\n",
       "      <td>...</td>\n",
       "      <td>0.0</td>\n",
       "      <td>0.0</td>\n",
       "      <td>0.0</td>\n",
       "      <td>0.0</td>\n",
       "      <td>0.0</td>\n",
       "      <td>0.0</td>\n",
       "      <td>0.0</td>\n",
       "      <td>0.0</td>\n",
       "      <td>39205.170000</td>\n",
       "      <td>0</td>\n",
       "    </tr>\n",
       "    <tr>\n",
       "      <th>1</th>\n",
       "      <td>3</td>\n",
       "      <td>2</td>\n",
       "      <td>34</td>\n",
       "      <td>0.0</td>\n",
       "      <td>0.0</td>\n",
       "      <td>0.0</td>\n",
       "      <td>0.0</td>\n",
       "      <td>0.0</td>\n",
       "      <td>0.0</td>\n",
       "      <td>0.0</td>\n",
       "      <td>...</td>\n",
       "      <td>0.0</td>\n",
       "      <td>0.0</td>\n",
       "      <td>0.0</td>\n",
       "      <td>0.0</td>\n",
       "      <td>0.0</td>\n",
       "      <td>0.0</td>\n",
       "      <td>0.0</td>\n",
       "      <td>0.0</td>\n",
       "      <td>49278.030000</td>\n",
       "      <td>0</td>\n",
       "    </tr>\n",
       "    <tr>\n",
       "      <th>2</th>\n",
       "      <td>4</td>\n",
       "      <td>2</td>\n",
       "      <td>23</td>\n",
       "      <td>0.0</td>\n",
       "      <td>0.0</td>\n",
       "      <td>0.0</td>\n",
       "      <td>0.0</td>\n",
       "      <td>0.0</td>\n",
       "      <td>0.0</td>\n",
       "      <td>0.0</td>\n",
       "      <td>...</td>\n",
       "      <td>0.0</td>\n",
       "      <td>0.0</td>\n",
       "      <td>0.0</td>\n",
       "      <td>0.0</td>\n",
       "      <td>0.0</td>\n",
       "      <td>0.0</td>\n",
       "      <td>0.0</td>\n",
       "      <td>0.0</td>\n",
       "      <td>67333.770000</td>\n",
       "      <td>0</td>\n",
       "    </tr>\n",
       "    <tr>\n",
       "      <th>3</th>\n",
       "      <td>8</td>\n",
       "      <td>2</td>\n",
       "      <td>37</td>\n",
       "      <td>0.0</td>\n",
       "      <td>195.0</td>\n",
       "      <td>195.0</td>\n",
       "      <td>0.0</td>\n",
       "      <td>0.0</td>\n",
       "      <td>0.0</td>\n",
       "      <td>0.0</td>\n",
       "      <td>...</td>\n",
       "      <td>0.0</td>\n",
       "      <td>0.0</td>\n",
       "      <td>0.0</td>\n",
       "      <td>0.0</td>\n",
       "      <td>0.0</td>\n",
       "      <td>0.0</td>\n",
       "      <td>0.0</td>\n",
       "      <td>0.0</td>\n",
       "      <td>64007.970000</td>\n",
       "      <td>0</td>\n",
       "    </tr>\n",
       "    <tr>\n",
       "      <th>4</th>\n",
       "      <td>10</td>\n",
       "      <td>2</td>\n",
       "      <td>39</td>\n",
       "      <td>0.0</td>\n",
       "      <td>0.0</td>\n",
       "      <td>0.0</td>\n",
       "      <td>0.0</td>\n",
       "      <td>0.0</td>\n",
       "      <td>0.0</td>\n",
       "      <td>0.0</td>\n",
       "      <td>...</td>\n",
       "      <td>0.0</td>\n",
       "      <td>0.0</td>\n",
       "      <td>0.0</td>\n",
       "      <td>0.0</td>\n",
       "      <td>0.0</td>\n",
       "      <td>0.0</td>\n",
       "      <td>0.0</td>\n",
       "      <td>0.0</td>\n",
       "      <td>117310.979016</td>\n",
       "      <td>0</td>\n",
       "    </tr>\n",
       "  </tbody>\n",
       "</table>\n",
       "<p>5 rows × 371 columns</p>\n",
       "</div>"
      ],
      "text/plain": [
       "   ID  var3  var15  imp_ent_var16_ult1  imp_op_var39_comer_ult1  \\\n",
       "0   1     2     23                 0.0                      0.0   \n",
       "1   3     2     34                 0.0                      0.0   \n",
       "2   4     2     23                 0.0                      0.0   \n",
       "3   8     2     37                 0.0                    195.0   \n",
       "4  10     2     39                 0.0                      0.0   \n",
       "\n",
       "   imp_op_var39_comer_ult3  imp_op_var40_comer_ult1  imp_op_var40_comer_ult3  \\\n",
       "0                      0.0                      0.0                      0.0   \n",
       "1                      0.0                      0.0                      0.0   \n",
       "2                      0.0                      0.0                      0.0   \n",
       "3                    195.0                      0.0                      0.0   \n",
       "4                      0.0                      0.0                      0.0   \n",
       "\n",
       "   imp_op_var40_efect_ult1  imp_op_var40_efect_ult3  ...  \\\n",
       "0                      0.0                      0.0  ...   \n",
       "1                      0.0                      0.0  ...   \n",
       "2                      0.0                      0.0  ...   \n",
       "3                      0.0                      0.0  ...   \n",
       "4                      0.0                      0.0  ...   \n",
       "\n",
       "   saldo_medio_var33_hace2  saldo_medio_var33_hace3  saldo_medio_var33_ult1  \\\n",
       "0                      0.0                      0.0                     0.0   \n",
       "1                      0.0                      0.0                     0.0   \n",
       "2                      0.0                      0.0                     0.0   \n",
       "3                      0.0                      0.0                     0.0   \n",
       "4                      0.0                      0.0                     0.0   \n",
       "\n",
       "   saldo_medio_var33_ult3  saldo_medio_var44_hace2  saldo_medio_var44_hace3  \\\n",
       "0                     0.0                      0.0                      0.0   \n",
       "1                     0.0                      0.0                      0.0   \n",
       "2                     0.0                      0.0                      0.0   \n",
       "3                     0.0                      0.0                      0.0   \n",
       "4                     0.0                      0.0                      0.0   \n",
       "\n",
       "   saldo_medio_var44_ult1  saldo_medio_var44_ult3          var38  TARGET  \n",
       "0                     0.0                     0.0   39205.170000       0  \n",
       "1                     0.0                     0.0   49278.030000       0  \n",
       "2                     0.0                     0.0   67333.770000       0  \n",
       "3                     0.0                     0.0   64007.970000       0  \n",
       "4                     0.0                     0.0  117310.979016       0  \n",
       "\n",
       "[5 rows x 371 columns]"
      ]
     },
     "execution_count": 3,
     "metadata": {},
     "output_type": "execute_result"
    }
   ],
   "source": [
    "print(data.shape)\n",
    "data.head()"
   ]
  },
  {
   "cell_type": "code",
   "execution_count": 4,
   "metadata": {},
   "outputs": [
    {
     "data": {
      "text/plain": [
       "[]"
      ]
     },
     "execution_count": 4,
     "metadata": {},
     "output_type": "execute_result"
    }
   ],
   "source": [
    "[col for col in data.columns if data[col].isnull().sum() > 0]"
   ]
  },
  {
   "cell_type": "code",
   "execution_count": 5,
   "metadata": {},
   "outputs": [],
   "source": [
    "X_train,X_test,y_train,y_test = train_test_split(data.drop(['ID','TARGET'],axis = 1),data['TARGET'],test_size = 0.3,random_state = 0)"
   ]
  },
  {
   "cell_type": "code",
   "execution_count": 8,
   "metadata": {},
   "outputs": [
    {
     "name": "stdout",
     "output_type": "stream",
     "text": [
      "(53214, 369) (22806, 369)\n"
     ]
    }
   ],
   "source": [
    "print(X_train.shape,X_test.shape)"
   ]
  },
  {
   "cell_type": "code",
   "execution_count": 9,
   "metadata": {},
   "outputs": [],
   "source": [
    "X_train_orig = X_train.copy()\n",
    "X_test_orig = X_test.copy()"
   ]
  },
  {
   "cell_type": "markdown",
   "metadata": {},
   "source": [
    "### Constant features"
   ]
  },
  {
   "cell_type": "code",
   "execution_count": 10,
   "metadata": {},
   "outputs": [
    {
     "data": {
      "text/plain": [
       "38"
      ]
     },
     "execution_count": 10,
     "metadata": {},
     "output_type": "execute_result"
    }
   ],
   "source": [
    "#removing const features\n",
    "const = [col for col in X_train.columns if len(X_train[col].unique()) == 1]\n",
    "len(const)"
   ]
  },
  {
   "cell_type": "code",
   "execution_count": 11,
   "metadata": {},
   "outputs": [],
   "source": [
    "X_train.drop(const,axis = 1,inplace = True)\n",
    "X_test.drop(const,axis = 1,inplace = True)"
   ]
  },
  {
   "cell_type": "code",
   "execution_count": 12,
   "metadata": {},
   "outputs": [
    {
     "name": "stdout",
     "output_type": "stream",
     "text": [
      "(53214, 331) (22806, 331)\n"
     ]
    }
   ],
   "source": [
    "print(X_train.shape,X_test.shape)"
   ]
  },
  {
   "cell_type": "markdown",
   "metadata": {},
   "source": [
    "### Quasi const features"
   ]
  },
  {
   "cell_type": "code",
   "execution_count": 13,
   "metadata": {},
   "outputs": [
    {
     "data": {
      "text/plain": [
       "70"
      ]
     },
     "execution_count": 13,
     "metadata": {},
     "output_type": "execute_result"
    }
   ],
   "source": [
    "quasi_const = [col for col in X_train.columns if (X_train[col].value_counts() / len(X_train)).values[0] > 0.9998]\n",
    "len(quasi_const)"
   ]
  },
  {
   "cell_type": "code",
   "execution_count": 14,
   "metadata": {},
   "outputs": [],
   "source": [
    "X_train.drop(quasi_const,axis = 1,inplace = True)\n",
    "X_test.drop(quasi_const,axis = 1,inplace = True)"
   ]
  },
  {
   "cell_type": "code",
   "execution_count": 15,
   "metadata": {},
   "outputs": [
    {
     "name": "stdout",
     "output_type": "stream",
     "text": [
      "(53214, 261) (22806, 261)\n"
     ]
    }
   ],
   "source": [
    "print(X_train.shape,X_test.shape)"
   ]
  },
  {
   "cell_type": "markdown",
   "metadata": {},
   "source": [
    "### Dublicative features"
   ]
  },
  {
   "cell_type": "code",
   "execution_count": 16,
   "metadata": {
    "scrolled": true
   },
   "outputs": [
    {
     "name": "stdout",
     "output_type": "stream",
     "text": [
      "0.38314176245210724\n",
      "0.7662835249042145\n",
      "1.1494252873563218\n",
      "1.532567049808429\n",
      "1.9157088122605364\n",
      "2.2988505747126435\n",
      "2.681992337164751\n",
      "3.065134099616858\n",
      "3.4482758620689653\n",
      "3.8314176245210727\n",
      "4.21455938697318\n",
      "4.597701149425287\n",
      "4.980842911877394\n",
      "5.363984674329502\n",
      "5.747126436781609\n",
      "6.130268199233716\n",
      "6.513409961685824\n",
      "6.896551724137931\n",
      "7.2796934865900385\n",
      "7.662835249042145\n",
      "8.045977011494253\n",
      "8.42911877394636\n",
      "8.812260536398467\n",
      "9.195402298850574\n",
      "9.578544061302683\n",
      "9.961685823754788\n",
      "10.344827586206897\n",
      "10.727969348659004\n",
      "11.11111111111111\n",
      "11.494252873563218\n",
      "11.877394636015326\n",
      "12.260536398467432\n",
      "12.643678160919542\n",
      "13.026819923371647\n",
      "13.409961685823754\n",
      "13.793103448275861\n",
      "14.17624521072797\n",
      "14.559386973180077\n",
      "14.942528735632186\n",
      "15.32567049808429\n",
      "15.708812260536398\n",
      "16.091954022988507\n",
      "16.47509578544061\n",
      "16.85823754789272\n",
      "17.24137931034483\n",
      "17.624521072796934\n",
      "18.007662835249043\n",
      "18.39080459770115\n",
      "18.773946360153257\n",
      "19.157088122605366\n",
      "19.54022988505747\n",
      "19.923371647509576\n",
      "20.306513409961685\n",
      "20.689655172413794\n",
      "21.0727969348659\n",
      "21.455938697318008\n",
      "21.839080459770116\n",
      "22.22222222222222\n",
      "22.60536398467433\n",
      "22.988505747126435\n",
      "23.371647509578544\n",
      "23.754789272030653\n",
      "24.137931034482758\n",
      "24.521072796934863\n",
      "24.904214559386972\n",
      "25.287356321839084\n",
      "25.67049808429119\n",
      "26.053639846743295\n",
      "26.436781609195403\n",
      "26.81992337164751\n",
      "27.203065134099617\n",
      "27.586206896551722\n",
      "27.969348659003828\n",
      "28.35249042145594\n",
      "28.735632183908045\n",
      "29.118773946360154\n",
      "29.50191570881226\n",
      "29.88505747126437\n",
      "30.268199233716476\n",
      "30.65134099616858\n",
      "31.03448275862069\n",
      "31.417624521072796\n",
      "31.800766283524908\n",
      "32.18390804597701\n",
      "32.56704980842912\n",
      "32.95019157088122\n",
      "33.33333333333333\n",
      "33.71647509578544\n",
      "34.099616858237546\n",
      "34.48275862068966\n",
      "34.86590038314176\n",
      "35.24904214559387\n",
      "35.63218390804598\n",
      "36.015325670498086\n",
      "36.39846743295019\n",
      "36.7816091954023\n",
      "37.16475095785441\n",
      "37.547892720306514\n",
      "37.93103448275862\n",
      "38.31417624521073\n",
      "38.69731800766284\n",
      "39.08045977011494\n",
      "39.46360153256705\n",
      "39.84674329501915\n",
      "40.229885057471265\n",
      "40.61302681992337\n",
      "40.99616858237548\n",
      "41.37931034482759\n",
      "41.7624521072797\n",
      "42.1455938697318\n",
      "42.5287356321839\n",
      "42.911877394636015\n",
      "43.29501915708812\n",
      "43.67816091954023\n",
      "44.06130268199234\n",
      "44.44444444444444\n",
      "44.827586206896555\n",
      "45.21072796934866\n",
      "45.593869731800766\n",
      "45.97701149425287\n",
      "46.36015325670498\n",
      "46.74329501915709\n",
      "47.12643678160919\n",
      "47.509578544061306\n",
      "47.89272030651341\n",
      "48.275862068965516\n",
      "48.65900383141762\n",
      "49.042145593869726\n",
      "49.42528735632184\n",
      "49.808429118773944\n",
      "50.191570881226056\n",
      "50.57471264367817\n",
      "50.95785440613027\n",
      "51.34099616858238\n",
      "51.724137931034484\n",
      "52.10727969348659\n",
      "52.490421455938694\n",
      "52.87356321839081\n",
      "53.25670498084292\n",
      "53.63984674329502\n",
      "54.02298850574713\n",
      "54.406130268199234\n",
      "54.78927203065134\n",
      "55.172413793103445\n",
      "55.55555555555556\n",
      "55.938697318007655\n",
      "56.32183908045977\n",
      "56.70498084291188\n",
      "57.08812260536399\n",
      "57.47126436781609\n",
      "57.8544061302682\n",
      "58.23754789272031\n",
      "58.620689655172406\n",
      "59.00383141762452\n",
      "59.38697318007663\n",
      "59.77011494252874\n",
      "60.15325670498084\n",
      "60.53639846743295\n",
      "60.91954022988506\n",
      "61.30268199233716\n",
      "61.68582375478927\n",
      "62.06896551724138\n",
      "62.45210727969349\n",
      "62.83524904214559\n",
      "63.2183908045977\n",
      "63.601532567049816\n",
      "63.984674329501914\n",
      "64.36781609195403\n",
      "64.75095785440614\n",
      "65.13409961685824\n",
      "65.51724137931035\n",
      "65.90038314176245\n",
      "66.28352490421456\n",
      "66.66666666666666\n",
      "67.04980842911877\n",
      "67.43295019157088\n",
      "67.81609195402298\n",
      "68.19923371647509\n",
      "68.5823754789272\n",
      "68.96551724137932\n",
      "69.34865900383141\n",
      "69.73180076628353\n",
      "70.11494252873564\n",
      "70.49808429118774\n",
      "70.88122605363985\n",
      "71.26436781609196\n",
      "71.64750957854406\n",
      "72.03065134099617\n",
      "72.41379310344827\n",
      "72.79693486590038\n",
      "73.18007662835248\n",
      "73.5632183908046\n",
      "73.9463601532567\n",
      "74.32950191570882\n",
      "74.71264367816092\n",
      "75.09578544061303\n",
      "75.47892720306514\n",
      "75.86206896551724\n",
      "76.24521072796935\n",
      "76.62835249042146\n",
      "77.01149425287356\n",
      "77.39463601532567\n",
      "77.77777777777779\n",
      "78.16091954022988\n",
      "78.544061302682\n",
      "78.9272030651341\n",
      "79.3103448275862\n",
      "79.6934865900383\n",
      "80.07662835249042\n",
      "80.45977011494253\n",
      "80.84291187739464\n",
      "81.22605363984674\n",
      "81.60919540229885\n",
      "81.99233716475096\n",
      "82.37547892720306\n",
      "82.75862068965517\n",
      "83.14176245210729\n",
      "83.5249042145594\n",
      "83.9080459770115\n",
      "84.2911877394636\n",
      "84.67432950191571\n",
      "85.0574712643678\n",
      "85.44061302681992\n",
      "85.82375478927203\n",
      "86.20689655172413\n",
      "86.59003831417624\n",
      "86.97318007662835\n",
      "87.35632183908046\n",
      "87.73946360153256\n",
      "88.12260536398468\n",
      "88.50574712643679\n",
      "88.88888888888889\n",
      "89.272030651341\n",
      "89.65517241379311\n",
      "90.03831417624522\n",
      "90.42145593869732\n",
      "90.80459770114942\n",
      "91.18773946360153\n",
      "91.57088122605363\n",
      "91.95402298850574\n",
      "92.33716475095785\n",
      "92.72030651340997\n",
      "93.10344827586206\n",
      "93.48659003831418\n",
      "93.86973180076629\n",
      "94.25287356321839\n",
      "94.6360153256705\n",
      "95.01915708812261\n",
      "95.40229885057471\n",
      "95.78544061302682\n",
      "96.16858237547893\n",
      "96.55172413793103\n",
      "96.93486590038314\n",
      "97.31800766283524\n",
      "97.70114942528735\n",
      "98.08429118773945\n",
      "98.46743295019157\n",
      "98.85057471264368\n",
      "99.23371647509579\n",
      "99.61685823754789\n",
      "100.0\n"
     ]
    }
   ],
   "source": [
    "dub_features = []\n",
    "tick = 0\n",
    "for i in range(len(X_train.columns)):\n",
    "    tick += 1\n",
    "    print((tick / len(X_train.columns))*100)\n",
    "    col_1 = X_train.columns[i]\n",
    "    for col_2 in X_train.columns[i+1:]:\n",
    "        if X_train[col_1].equals(X_train[col_2]):\n",
    "            dub_features.append(col_2)"
   ]
  },
  {
   "cell_type": "code",
   "execution_count": 17,
   "metadata": {},
   "outputs": [
    {
     "data": {
      "text/plain": [
       "12"
      ]
     },
     "execution_count": 17,
     "metadata": {},
     "output_type": "execute_result"
    }
   ],
   "source": [
    "dub_features = list(set(dub_features))\n",
    "len(dub_features)"
   ]
  },
  {
   "cell_type": "code",
   "execution_count": 18,
   "metadata": {},
   "outputs": [],
   "source": [
    "X_train.drop(dub_features,axis = 1,inplace = True)\n",
    "X_test.drop(dub_features,axis = 1,inplace = True)"
   ]
  },
  {
   "cell_type": "code",
   "execution_count": 19,
   "metadata": {},
   "outputs": [
    {
     "name": "stdout",
     "output_type": "stream",
     "text": [
      "(53214, 249) (22806, 249)\n"
     ]
    }
   ],
   "source": [
    "print(X_train.shape,X_test.shape)"
   ]
  },
  {
   "cell_type": "code",
   "execution_count": 20,
   "metadata": {},
   "outputs": [],
   "source": [
    "X_train_basic_filter = X_train.copy()\n",
    "X_test_basic_filter = X_test.copy()"
   ]
  },
  {
   "cell_type": "markdown",
   "metadata": {},
   "source": [
    "## Remove Crrelated feature"
   ]
  },
  {
   "cell_type": "code",
   "execution_count": 21,
   "metadata": {},
   "outputs": [],
   "source": [
    "def correlation(data,threshold):\n",
    "    corr_features = set()\n",
    "    corr_matrix = data.corr()\n",
    "    for i in range(len(corr_matrix.columns)):\n",
    "        for j in range(i):\n",
    "            col_2 = data.columns[j]\n",
    "            if corr_matrix.iloc[i][j] >threshold:\n",
    "                corr_features.add(data.columns[i])\n",
    "    return corr_features            "
   ]
  },
  {
   "cell_type": "code",
   "execution_count": 22,
   "metadata": {},
   "outputs": [
    {
     "data": {
      "text/plain": [
       "140"
      ]
     },
     "execution_count": 22,
     "metadata": {},
     "output_type": "execute_result"
    }
   ],
   "source": [
    "corr_features = correlation(X_train,0.8)\n",
    "len(corr_features)"
   ]
  },
  {
   "cell_type": "code",
   "execution_count": 23,
   "metadata": {},
   "outputs": [],
   "source": [
    "X_train.drop(corr_features,axis = 1,inplace = True)\n",
    "X_test.drop(corr_features,axis = 1,inplace = True)"
   ]
  },
  {
   "cell_type": "code",
   "execution_count": 24,
   "metadata": {},
   "outputs": [
    {
     "name": "stdout",
     "output_type": "stream",
     "text": [
      "(53214, 109) (22806, 109)\n"
     ]
    }
   ],
   "source": [
    "print(X_train.shape,X_test.shape)"
   ]
  },
  {
   "cell_type": "code",
   "execution_count": 25,
   "metadata": {},
   "outputs": [],
   "source": [
    "X_train_corr = X_train.copy()\n",
    "X_test_corr = X_test.copy()"
   ]
  },
  {
   "cell_type": "markdown",
   "metadata": {},
   "source": [
    "## Univariate test using ROC_AUC"
   ]
  },
  {
   "cell_type": "code",
   "execution_count": 26,
   "metadata": {},
   "outputs": [],
   "source": [
    "roc_values = []\n",
    "for feature in X_train.columns:\n",
    "    clf = DecisionTreeClassifier()\n",
    "    clf.fit(X_train[feature].to_frame(),y_train)\n",
    "    pos_prob = clf.predict_proba(X_test[feature].to_frame())\n",
    "    roc = roc_auc_score(y_test,pos_prob[:,1])\n",
    "    roc_values.append(roc)\n",
    "    "
   ]
  },
  {
   "cell_type": "code",
   "execution_count": 27,
   "metadata": {},
   "outputs": [
    {
     "data": {
      "text/plain": [
       "var15                        0.697065\n",
       "num_var4                     0.696372\n",
       "ind_var5                     0.663066\n",
       "saldo_var30                  0.657865\n",
       "saldo_var5                   0.656267\n",
       "saldo_medio_var5_hace2       0.649150\n",
       "var36                        0.648116\n",
       "saldo_medio_var5_hace3       0.647765\n",
       "num_var30_0                  0.540032\n",
       "ind_var12_0                  0.527923\n",
       "ind_var39_0                  0.527372\n",
       "ind_var13_0                  0.524055\n",
       "saldo_var12                  0.519468\n",
       "ind_var8_0                   0.519047\n",
       "num_var45_hace3              0.518231\n",
       "saldo_var13_corto            0.517414\n",
       "ind_var5_0                   0.514479\n",
       "num_var22_ult1               0.514352\n",
       "delta_imp_aport_var13_1y3    0.512962\n",
       "num_med_var45_ult3           0.512698\n",
       "num_var22_hace3              0.511082\n",
       "num_var43_emit_ult1          0.511045\n",
       "num_aport_var13_hace3        0.510760\n",
       "imp_aport_var13_hace3        0.510517\n",
       "num_var22_ult3               0.510465\n",
       "num_var43_recib_ult1         0.509813\n",
       "ind_var43_recib_ult1         0.509682\n",
       "ind_var14_0                  0.509187\n",
       "ind_var25_cte                0.508886\n",
       "ind_var43_emit_ult1          0.508662\n",
       "                               ...   \n",
       "delta_imp_aport_var33_1y3    0.500160\n",
       "num_aport_var33_hace3        0.500160\n",
       "imp_aport_var17_hace3        0.500137\n",
       "imp_op_var40_comer_ult1      0.500118\n",
       "imp_var7_recib_ult1          0.500115\n",
       "num_compra_var44_ult1        0.500093\n",
       "saldo_medio_var17_hace3      0.500091\n",
       "imp_compra_var44_ult1        0.500047\n",
       "num_op_var40_comer_ult1      0.500025\n",
       "delta_imp_aport_var17_1y3    0.499955\n",
       "num_op_var41_hace2           0.499941\n",
       "imp_aport_var17_ult1         0.499841\n",
       "delta_imp_reemb_var13_1y3    0.499703\n",
       "delta_imp_reemb_var17_1y3    0.499659\n",
       "num_op_var40_hace2           0.499637\n",
       "imp_op_var40_efect_ult1      0.499544\n",
       "num_ent_var16_ult1           0.499512\n",
       "saldo_var1                   0.499411\n",
       "ind_var7_recib_ult1          0.499068\n",
       "imp_var43_emit_ult1          0.498806\n",
       "ind_var1_0                   0.498551\n",
       "imp_sal_var16_ult1           0.498178\n",
       "imp_ent_var16_ult1           0.498143\n",
       "saldo_medio_var8_hace3       0.497204\n",
       "num_op_var41_ult1            0.495082\n",
       "ind_var37_cte                0.494327\n",
       "saldo_var26                  0.493847\n",
       "saldo_medio_var8_hace2       0.493407\n",
       "saldo_var8                   0.492213\n",
       "saldo_var37                  0.490870\n",
       "Length: 109, dtype: float64"
      ]
     },
     "execution_count": 27,
     "metadata": {},
     "output_type": "execute_result"
    }
   ],
   "source": [
    "roc_values = pd.Series(roc_values)\n",
    "roc_values.index = X_train.columns\n",
    "roc_values.sort_values(ascending = False)"
   ]
  },
  {
   "cell_type": "code",
   "execution_count": 28,
   "metadata": {},
   "outputs": [
    {
     "data": {
      "text/plain": [
       "<matplotlib.axes._subplots.AxesSubplot at 0x1af39fa9208>"
      ]
     },
     "execution_count": 28,
     "metadata": {},
     "output_type": "execute_result"
    },
    {
     "data": {
      "image/png": "[encoded data removed]",
      "text/plain": [
       "<Figure size 1440x576 with 1 Axes>"
      ]
     },
     "metadata": {
      "needs_background": "light"
     },
     "output_type": "display_data"
    }
   ],
   "source": [
    "roc_values.sort_values(ascending = False).plot.bar(figsize = (20,8))"
   ]
  },
  {
   "cell_type": "code",
   "execution_count": 29,
   "metadata": {},
   "outputs": [],
   "source": [
    "vars = roc_values[roc_values<=0.5].index"
   ]
  },
  {
   "cell_type": "code",
   "execution_count": 30,
   "metadata": {},
   "outputs": [
    {
     "data": {
      "text/plain": [
       "21"
      ]
     },
     "execution_count": 30,
     "metadata": {},
     "output_type": "execute_result"
    }
   ],
   "source": [
    "len(vars)"
   ]
  },
  {
   "cell_type": "code",
   "execution_count": 31,
   "metadata": {},
   "outputs": [],
   "source": [
    "X_train.drop(vars,axis = 1,inplace = True)\n",
    "X_test.drop(vars,axis = 1,inplace = True)"
   ]
  },
  {
   "cell_type": "code",
   "execution_count": 32,
   "metadata": {},
   "outputs": [
    {
     "name": "stdout",
     "output_type": "stream",
     "text": [
      "(53214, 88) (22806, 88)\n"
     ]
    }
   ],
   "source": [
    "print(X_train.shape,X_test.shape)"
   ]
  },
  {
   "cell_type": "code",
   "execution_count": 33,
   "metadata": {},
   "outputs": [
    {
     "name": "stdout",
     "output_type": "stream",
     "text": [
      "(53214, 369) (22806, 369)\n"
     ]
    }
   ],
   "source": [
    "print(X_train_orig.shape,X_test_orig.shape)"
   ]
  },
  {
   "cell_type": "code",
   "execution_count": 35,
   "metadata": {},
   "outputs": [
    {
     "name": "stdout",
     "output_type": "stream",
     "text": [
      "(53214, 249) (22806, 249)\n"
     ]
    }
   ],
   "source": [
    "print(X_train_basic_filter.shape,X_test_basic_filter.shape)"
   ]
  },
  {
   "cell_type": "code",
   "execution_count": 36,
   "metadata": {},
   "outputs": [
    {
     "name": "stdout",
     "output_type": "stream",
     "text": [
      "(53214, 109) (22806, 109)\n"
     ]
    }
   ],
   "source": [
    "print(X_train_corr.shape,X_test_corr.shape)"
   ]
  },
  {
   "cell_type": "code",
   "execution_count": 37,
   "metadata": {},
   "outputs": [
    {
     "name": "stdout",
     "output_type": "stream",
     "text": [
      "(53214, 88) (22806, 88)\n"
     ]
    }
   ],
   "source": [
    "print(X_train.shape,X_test.shape)"
   ]
  },
  {
   "cell_type": "markdown",
   "metadata": {},
   "source": [
    "## Compare the performace in machine learning algorithms"
   ]
  },
  {
   "cell_type": "code",
   "execution_count": 44,
   "metadata": {},
   "outputs": [],
   "source": [
    "def run_random_forests(X_train,X_test,y_train,y_test):\n",
    "    clf = RandomForestClassifier(n_estimators=200,random_state=39,max_depth=4)\n",
    "    clf.fit(X_train,y_train)\n",
    "    print('Train Set')\n",
    "    pred = clf.predict_proba(X_train)\n",
    "    print('The roc_auc value for RandomForest {}'.format(roc_auc_score(y_train,pred[:,1])))\n",
    "    print('Test set')\n",
    "    pred = clf.predict_proba(X_test)\n",
    "    print('The roc_auc value for RandomForest {}'.format(roc_auc_score(y_test,pred[:,1])))"
   ]
  },
  {
   "cell_type": "code",
   "execution_count": 45,
   "metadata": {},
   "outputs": [
    {
     "name": "stdout",
     "output_type": "stream",
     "text": [
      "Train Set\n",
      "The roc_auc value for RandomForest 0.8012314741948454\n",
      "Test set\n",
      "The roc_auc value for RandomForest 0.7900499757912425\n"
     ]
    }
   ],
   "source": [
    "#original\n",
    "run_random_forests(X_train_orig,X_test_orig,y_train,y_test)"
   ]
  },
  {
   "cell_type": "code",
   "execution_count": 46,
   "metadata": {},
   "outputs": [
    {
     "name": "stdout",
     "output_type": "stream",
     "text": [
      "Train Set\n",
      "The roc_auc value for RandomForest 0.8029311054163247\n",
      "Test set\n",
      "The roc_auc value for RandomForest 0.7926447707684552\n"
     ]
    }
   ],
   "source": [
    "#filter_method - basic\n",
    "run_random_forests(X_train_basic_filter,X_test_basic_filter,y_train,y_test)"
   ]
  },
  {
   "cell_type": "code",
   "execution_count": 47,
   "metadata": {},
   "outputs": [
    {
     "name": "stdout",
     "output_type": "stream",
     "text": [
      "Train Set\n",
      "The roc_auc value for RandomForest 0.805372829142957\n",
      "Test set\n",
      "The roc_auc value for RandomForest 0.7944695483417501\n"
     ]
    }
   ],
   "source": [
    "#filter_method - correlation\n",
    "run_random_forests(X_train_corr,X_test_corr,y_train,y_test)"
   ]
  },
  {
   "cell_type": "code",
   "execution_count": 48,
   "metadata": {},
   "outputs": [
    {
     "name": "stdout",
     "output_type": "stream",
     "text": [
      "Train Set\n",
      "The roc_auc value for RandomForest 0.8075822726606909\n",
      "Test set\n",
      "The roc_auc value for RandomForest 0.7949713652979556\n"
     ]
    }
   ],
   "source": [
    "#filter_method - final\n",
    "run_random_forests(X_train,X_test,y_train,y_test)"
   ]
  },
  {
   "cell_type": "code",
   "execution_count": 49,
   "metadata": {},
   "outputs": [],
   "source": [
    "# Even after removing the number of features from 371 to 88, there is no real change in the performance"
   ]
  },
  {
   "cell_type": "code",
   "execution_count": 53,
   "metadata": {},
   "outputs": [],
   "source": [
    "#analyzing for logistic regresion\n",
    "def run_logistic_regression(X_train,X_test,y_train,y_test):\n",
    "    clf = LogisticRegression(random_state = 44)\n",
    "    clf.fit(X_train,y_train)\n",
    "    print('Train Set')\n",
    "    pred = clf.predict_proba(X_train)\n",
    "    print('The roc-auc value for Logistic Regression is {}'.format(roc_auc_score(y_train,pred[:,1])))\n",
    "    print('Test Set')\n",
    "    pred = clf.predict_proba(X_test)\n",
    "    print('The roc-auc value for Logistic Regression is {}'.format(roc_auc_score(y_test,pred[:,1])))\n",
    "    \n",
    "    "
   ]
  },
  {
   "cell_type": "code",
   "execution_count": 62,
   "metadata": {},
   "outputs": [
    {
     "name": "stderr",
     "output_type": "stream",
     "text": [
      "C:\\Users\\Lenovo\\Anaconda3\\lib\\site-packages\\sklearn\\linear_model\\logistic.py:432: FutureWarning: Default solver will be changed to 'lbfgs' in 0.22. Specify a solver to silence this warning.\n",
      "  FutureWarning)\n"
     ]
    },
    {
     "name": "stdout",
     "output_type": "stream",
     "text": [
      "Train Set\n",
      "The roc-auc value for Logistic Regression is 0.8069992623682241\n",
      "Test Set\n",
      "The roc-auc value for Logistic Regression is 0.7936268147072499\n"
     ]
    }
   ],
   "source": [
    "#original\n",
    "scaler = StandardScaler().fit(X_train_orig)\n",
    "\n",
    "run_logistic_regression(scaler.transform(X_train_orig)\n",
    "                        ,scaler.transform(X_test_orig)\n",
    "                        ,y_train,y_test)"
   ]
  },
  {
   "cell_type": "code",
   "execution_count": 64,
   "metadata": {},
   "outputs": [
    {
     "name": "stderr",
     "output_type": "stream",
     "text": [
      "C:\\Users\\Lenovo\\Anaconda3\\lib\\site-packages\\sklearn\\linear_model\\logistic.py:432: FutureWarning: Default solver will be changed to 'lbfgs' in 0.22. Specify a solver to silence this warning.\n",
      "  FutureWarning)\n"
     ]
    },
    {
     "name": "stdout",
     "output_type": "stream",
     "text": [
      "Train Set\n",
      "The roc-auc value for Logistic Regression is 0.8069980946380821\n",
      "Test Set\n",
      "The roc-auc value for Logistic Regression is 0.7936745425424433\n"
     ]
    }
   ],
   "source": [
    "#filter_method - basic\n",
    "scaler = StandardScaler().fit(X_train_basic_filter)\n",
    "\n",
    "run_logistic_regression(scaler.transform(X_train_basic_filter),\n",
    "                        scaler.transform(X_test_basic_filter)\n",
    "                        ,y_train,y_test)"
   ]
  },
  {
   "cell_type": "code",
   "execution_count": 65,
   "metadata": {},
   "outputs": [
    {
     "name": "stderr",
     "output_type": "stream",
     "text": [
      "C:\\Users\\Lenovo\\Anaconda3\\lib\\site-packages\\sklearn\\linear_model\\logistic.py:432: FutureWarning: Default solver will be changed to 'lbfgs' in 0.22. Specify a solver to silence this warning.\n",
      "  FutureWarning)\n"
     ]
    },
    {
     "name": "stdout",
     "output_type": "stream",
     "text": [
      "Train Set\n",
      "The roc-auc value for Logistic Regression is 0.79826719122973\n",
      "Test Set\n",
      "The roc-auc value for Logistic Regression is 0.7925108079807738\n"
     ]
    }
   ],
   "source": [
    "#filter_method - corr\n",
    "scaler = StandardScaler().fit(X_train_corr)\n",
    "\n",
    "run_logistic_regression(scaler.transform(X_train_corr),\n",
    "                        scaler.transform(X_test_corr),y_train,y_test)"
   ]
  },
  {
   "cell_type": "code",
   "execution_count": 66,
   "metadata": {},
   "outputs": [
    {
     "name": "stderr",
     "output_type": "stream",
     "text": [
      "C:\\Users\\Lenovo\\Anaconda3\\lib\\site-packages\\sklearn\\linear_model\\logistic.py:432: FutureWarning: Default solver will be changed to 'lbfgs' in 0.22. Specify a solver to silence this warning.\n",
      "  FutureWarning)\n"
     ]
    },
    {
     "name": "stdout",
     "output_type": "stream",
     "text": [
      "Train Set\n",
      "The roc-auc value for Logistic Regression is 0.7944186329373887\n",
      "Test Set\n",
      "The roc-auc value for Logistic Regression is 0.7941944261085152\n"
     ]
    }
   ],
   "source": [
    "#filter_method - final\n",
    "scaler = StandardScaler().fit(X_train)\n",
    "\n",
    "run_logistic_regression(scaler.transform(X_train),\n",
    "                        scaler.transform(X_test)\n",
    "                        ,y_train,y_test)"
   ]
  },
  {
   "cell_type": "code",
   "execution_count": 68,
   "metadata": {},
   "outputs": [],
   "source": [
    "#in logistic regression too, the performance of the model is not really effected by shrinking the number of features"
   ]
  },
  {
   "cell_type": "code",
   "execution_count": null,
   "metadata": {},
   "outputs": [],
   "source": []
  }
 ],
 "metadata": {
  "kernelspec": {
   "display_name": "Python 3",
   "language": "python",
   "name": "python3"
  },
  "language_info": {
   "codemirror_mode": {
    "name": "ipython",
    "version": 3
   },
   "file_extension": ".py",
   "mimetype": "text/x-python",
   "name": "python",
   "nbconvert_exporter": "python",
   "pygments_lexer": "ipython3",
   "version": "3.7.3"
  }
 },
 "nbformat": 4,
 "nbformat_minor": 2
}
